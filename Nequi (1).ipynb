{
  "nbformat": 4,
  "nbformat_minor": 0,
  "metadata": {
    "colab": {
      "provenance": [],
      "collapsed_sections": []
    },
    "kernelspec": {
      "name": "python3",
      "display_name": "Python 3"
    },
    "language_info": {
      "name": "python"
    }
  },
  "cells": [
    {
      "cell_type": "code",
      "source": [
        "class Usuario:\n",
        "  def __init__(self):\n",
        "    self.name=[]\n",
        "    self.clave=[]\n",
        "    self.monto=[]\n",
        "    self.ahorro=[]\n",
        "    pro=\"si\"\n",
        "    while pro==\"si\":\n",
        "      self.name.append(input(\"Ingrese su nombre \"))\n",
        "      self.clave.append(input(\"Ingrese una clave \"))\n",
        "      self.monto.append(0)\n",
        "      self.ahorro.append(0)\n",
        "      cont=len(self.name)- 1\n",
        "      print(\"Su numero de cuenta es\",cont)\n",
        "      pro=input(\"desea crear otra cuenta? \")\n",
        "\n",
        "class Lobby(Usuario):\n",
        "  def login(self):\n",
        "    print(\"Bienvenido a Nequi\",\n",
        "              \"\\n1.Iniciar sesion\",\n",
        "              \"\\n2.salir\")\n",
        "    opcion=input()\n",
        "    if opcion==\"1\":\n",
        "      self.No_cuenta=int(input(\"Ingrese  No. de cuenta \"))\n",
        "      name=input(\"Ingrese su nombre: \")\n",
        "      clave=input(\"ingrese su clave: \")\n",
        "      if name==self.name[self.No_cuenta] and clave==self.clave[self.No_cuenta]:\n",
        "        x.inicio()\n",
        "      else:\n",
        "        print(\"Nombre o clave incorrecta\")\n",
        "    else:\n",
        "      exit()\n",
        "\n",
        "\n",
        "  def inicio(self):\n",
        "    print(\"Hola\",self.name[self.No_cuenta], \"su saldo es de: $\", self.monto[self.No_cuenta],\n",
        "              \"\\ny su ahorro es de: $\",self.ahorro[self.No_cuenta],\n",
        "              \"\\nQue quieres hacer?\",\n",
        "              \"\\n1.Ingresar\",\n",
        "              \"\\n2.Retirar\",\n",
        "              \"\\n3.ahorro\",\n",
        "              \"\\n4.Salir\")\n",
        "    self.opcion=input(\"Ingrese opcion: \")\n",
        "    if self.opcion==\"1\":\n",
        "      x.Ingresar()\n",
        "      x.inicio()\n",
        "    elif self.opcion==\"2\":\n",
        "      x.Retirar()\n",
        "      x.inicio()\n",
        "    elif  self.opcion==\"3\":\n",
        "      x.ahorro()\n",
        "      x.inicio()\n",
        "    elif self.opcion==\"4\":\n",
        "      x.login()\n",
        "\n",
        "\n",
        "  def Ingresar(self):\n",
        "    ingresa=int(input(\"Ingrese el monto: \"))\n",
        "    ingresa=self.monto[self.No_cuenta]+ingresa\n",
        "    self.monto.pop(self.No_cuenta)\n",
        "    self.monto.insert(self.No_cuenta,ingresa)\n",
        "\n",
        "\n",
        "  def Retirar(self):\n",
        "    retira=int(input(\"Ingresa el valor a retirar: \"))\n",
        "    if  self.monto[self.No_cuenta]>=retira:\n",
        "      retira=self.monto[self.No_cuenta]-retira\n",
        "      self.monto.pop(self.No_cuenta)\n",
        "      self.monto.insert(self.No_cuenta,retira)\n",
        "    else:\n",
        "      print(\"No tienes el suficiente dinero\")\n",
        "\n",
        "  def ahorro(self):\n",
        "      monto_ahorro=int(input(\"Ingrese el monto: \"))\n",
        "      if  self.monto[self.No_cuenta]>=monto_ahorro:\n",
        "        monto_ahorro_entra=self.ahorro[self.No_cuenta]+monto_ahorro\n",
        "        self.ahorro.pop(self.No_cuenta)\n",
        "        self.ahorro.insert(self.No_cuenta,monto_ahorro_entra)\n",
        "        monto_ahorro_sale=self.monto[self.No_cuenta]-monto_ahorro\n",
        "        self.monto.pop(self.No_cuenta)\n",
        "        self.monto.insert(self.No_cuenta,monto_ahorro_sale)\n",
        "      else:\n",
        "          print(\"No tienes el suficiente dinero\")\n",
        "\n",
        "x=Lobby()\n",
        "x.login()"
      ],
      "metadata": {
        "id": "2MmEwmt5tI3e"
      },
      "execution_count": null,
      "outputs": []
    },
    {
      "cell_type": "markdown",
      "source": [
        "![si.drawio.png](data:image/png;base64,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)"
      ],
      "metadata": {
        "id": "9zzdm_TCEicA"
      }
    }
  ]
}